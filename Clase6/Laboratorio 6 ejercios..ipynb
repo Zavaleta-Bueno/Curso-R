{
 "cells": [
  {
   "cell_type": "markdown",
   "metadata": {},
   "source": [
    "# Ejercicios \n",
    "\n",
    "\n",
    "\n",
    "### 1. "
   ]
  },
  {
   "cell_type": "code",
   "execution_count": 1,
   "metadata": {
    "collapsed": false
   },
   "outputs": [
    {
     "data": {
      "text/html": [
       "<ol class=list-inline>\n",
       "\t<li>a</li>\n",
       "\t<li>b</li>\n",
       "\t<li>c</li>\n",
       "\t<li>d</li>\n",
       "\t<li>e</li>\n",
       "\t<li>f</li>\n",
       "\t<li>g</li>\n",
       "\t<li>h</li>\n",
       "\t<li>i</li>\n",
       "\t<li>j</li>\n",
       "\t<li>k</li>\n",
       "\t<li>l</li>\n",
       "\t<li>m</li>\n",
       "\t<li>n</li>\n",
       "\t<li>o</li>\n",
       "\t<li>p</li>\n",
       "\t<li>q</li>\n",
       "\t<li>r</li>\n",
       "\t<li>s</li>\n",
       "\t<li>t</li>\n",
       "\t<li>u</li>\n",
       "\t<li>v</li>\n",
       "\t<li>w</li>\n",
       "\t<li>x</li>\n",
       "\t<li>y</li>\n",
       "\t<li>z</li>\n",
       "</ol>\n"
      ],
      "text/latex": [
       "\\begin{enumerate*}\n",
       "\\item a\n",
       "\\item b\n",
       "\\item c\n",
       "\\item d\n",
       "\\item e\n",
       "\\item f\n",
       "\\item g\n",
       "\\item h\n",
       "\\item i\n",
       "\\item j\n",
       "\\item k\n",
       "\\item l\n",
       "\\item m\n",
       "\\item n\n",
       "\\item o\n",
       "\\item p\n",
       "\\item q\n",
       "\\item r\n",
       "\\item s\n",
       "\\item t\n",
       "\\item u\n",
       "\\item v\n",
       "\\item w\n",
       "\\item x\n",
       "\\item y\n",
       "\\item z\n",
       "\\end{enumerate*}\n"
      ],
      "text/markdown": [
       "1. a\n",
       "2. b\n",
       "3. c\n",
       "4. d\n",
       "5. e\n",
       "6. f\n",
       "7. g\n",
       "8. h\n",
       "9. i\n",
       "10. j\n",
       "11. k\n",
       "12. l\n",
       "13. m\n",
       "14. n\n",
       "15. o\n",
       "16. p\n",
       "17. q\n",
       "18. r\n",
       "19. s\n",
       "20. t\n",
       "21. u\n",
       "22. v\n",
       "23. w\n",
       "24. x\n",
       "25. y\n",
       "26. z\n",
       "\n",
       "\n"
      ],
      "text/plain": [
       " [1] a b c d e f g h i j k l m n o p q r s t u v w x y z\n",
       "Levels: a b c d e f g h i j k l m n o p q r s t u v w x y z"
      ]
     },
     "metadata": {},
     "output_type": "display_data"
    },
    {
     "data": {
      "text/html": [
       "<ol class=list-inline>\n",
       "\t<li>z</li>\n",
       "\t<li>y</li>\n",
       "\t<li>x</li>\n",
       "\t<li>w</li>\n",
       "\t<li>v</li>\n",
       "\t<li>u</li>\n",
       "\t<li>t</li>\n",
       "\t<li>s</li>\n",
       "\t<li>r</li>\n",
       "\t<li>q</li>\n",
       "\t<li>p</li>\n",
       "\t<li>o</li>\n",
       "\t<li>n</li>\n",
       "\t<li>m</li>\n",
       "\t<li>l</li>\n",
       "\t<li>k</li>\n",
       "\t<li>j</li>\n",
       "\t<li>i</li>\n",
       "\t<li>h</li>\n",
       "\t<li>g</li>\n",
       "\t<li>f</li>\n",
       "\t<li>e</li>\n",
       "\t<li>d</li>\n",
       "\t<li>c</li>\n",
       "\t<li>b</li>\n",
       "\t<li>a</li>\n",
       "</ol>\n"
      ],
      "text/latex": [
       "\\begin{enumerate*}\n",
       "\\item z\n",
       "\\item y\n",
       "\\item x\n",
       "\\item w\n",
       "\\item v\n",
       "\\item u\n",
       "\\item t\n",
       "\\item s\n",
       "\\item r\n",
       "\\item q\n",
       "\\item p\n",
       "\\item o\n",
       "\\item n\n",
       "\\item m\n",
       "\\item l\n",
       "\\item k\n",
       "\\item j\n",
       "\\item i\n",
       "\\item h\n",
       "\\item g\n",
       "\\item f\n",
       "\\item e\n",
       "\\item d\n",
       "\\item c\n",
       "\\item b\n",
       "\\item a\n",
       "\\end{enumerate*}\n"
      ],
      "text/markdown": [
       "1. z\n",
       "2. y\n",
       "3. x\n",
       "4. w\n",
       "5. v\n",
       "6. u\n",
       "7. t\n",
       "8. s\n",
       "9. r\n",
       "10. q\n",
       "11. p\n",
       "12. o\n",
       "13. n\n",
       "14. m\n",
       "15. l\n",
       "16. k\n",
       "17. j\n",
       "18. i\n",
       "19. h\n",
       "20. g\n",
       "21. f\n",
       "22. e\n",
       "23. d\n",
       "24. c\n",
       "25. b\n",
       "26. a\n",
       "\n",
       "\n"
      ],
      "text/plain": [
       " [1] z y x w v u t s r q p o n m l k j i h g f e d c b a\n",
       "Levels: z y x w v u t s r q p o n m l k j i h g f e d c b a"
      ]
     },
     "metadata": {},
     "output_type": "display_data"
    }
   ],
   "source": [
    "f1 <- factor(letters)\n",
    "f1\n",
    "levels(f1) <- rev(levels(f1))\n",
    "f1"
   ]
  },
  {
   "cell_type": "markdown",
   "metadata": {},
   "source": [
    "Como vemos el resultado es invertir las letras que son el grupo de _factores_ asignados."
   ]
  },
  {
   "cell_type": "markdown",
   "metadata": {},
   "source": [
    "### 2."
   ]
  },
  {
   "cell_type": "code",
   "execution_count": 4,
   "metadata": {
    "collapsed": false
   },
   "outputs": [
    {
     "data": {
      "text/html": [
       "<ol class=list-inline>\n",
       "\t<li>1</li>\n",
       "\t<li>2</li>\n",
       "\t<li>3</li>\n",
       "\t<li>4</li>\n",
       "\t<li>5</li>\n",
       "</ol>\n"
      ],
      "text/latex": [
       "\\begin{enumerate*}\n",
       "\\item 1\n",
       "\\item 2\n",
       "\\item 3\n",
       "\\item 4\n",
       "\\item 5\n",
       "\\end{enumerate*}\n"
      ],
      "text/markdown": [
       "1. 1\n",
       "2. 2\n",
       "3. 3\n",
       "4. 4\n",
       "5. 5\n",
       "\n",
       "\n"
      ],
      "text/plain": [
       ", , 1\n",
       "\n",
       "     [,1]\n",
       "[1,]    1\n",
       "\n",
       ", , 2\n",
       "\n",
       "     [,1]\n",
       "[1,]    2\n",
       "\n",
       ", , 3\n",
       "\n",
       "     [,1]\n",
       "[1,]    3\n",
       "\n",
       ", , 4\n",
       "\n",
       "     [,1]\n",
       "[1,]    4\n",
       "\n",
       ", , 5\n",
       "\n",
       "     [,1]\n",
       "[1,]    5\n"
      ]
     },
     "metadata": {},
     "output_type": "display_data"
    },
    {
     "data": {
      "text/html": [
       "<ol class=list-inline>\n",
       "\t<li>1</li>\n",
       "\t<li>2</li>\n",
       "\t<li>3</li>\n",
       "\t<li>4</li>\n",
       "\t<li>5</li>\n",
       "</ol>\n"
      ],
      "text/latex": [
       "\\begin{enumerate*}\n",
       "\\item 1\n",
       "\\item 2\n",
       "\\item 3\n",
       "\\item 4\n",
       "\\item 5\n",
       "\\end{enumerate*}\n"
      ],
      "text/markdown": [
       "1. 1\n",
       "2. 2\n",
       "3. 3\n",
       "4. 4\n",
       "5. 5\n",
       "\n",
       "\n"
      ],
      "text/plain": [
       ", , 1\n",
       "\n",
       "     [,1] [,2] [,3] [,4] [,5]\n",
       "[1,]    1    2    3    4    5\n"
      ]
     },
     "metadata": {},
     "output_type": "display_data"
    },
    {
     "data": {
      "text/html": [
       "<ol class=list-inline>\n",
       "\t<li>1</li>\n",
       "\t<li>2</li>\n",
       "\t<li>3</li>\n",
       "\t<li>4</li>\n",
       "\t<li>5</li>\n",
       "</ol>\n"
      ],
      "text/latex": [
       "\\begin{enumerate*}\n",
       "\\item 1\n",
       "\\item 2\n",
       "\\item 3\n",
       "\\item 4\n",
       "\\item 5\n",
       "\\end{enumerate*}\n"
      ],
      "text/markdown": [
       "1. 1\n",
       "2. 2\n",
       "3. 3\n",
       "4. 4\n",
       "5. 5\n",
       "\n",
       "\n"
      ],
      "text/plain": [
       ", , 1\n",
       "\n",
       "     [,1]\n",
       "[1,]    1\n",
       "[2,]    2\n",
       "[3,]    3\n",
       "[4,]    4\n",
       "[5,]    5\n"
      ]
     },
     "metadata": {},
     "output_type": "display_data"
    },
    {
     "name": "stdout",
     "output_type": "stream",
     "text": [
      " int [1, 1, 1:5] 1 2 3 4 5\n",
      " int [1, 1:5, 1] 1 2 3 4 5\n",
      " int [1:5, 1, 1] 1 2 3 4 5\n"
     ]
    }
   ],
   "source": [
    "x1 <- array(1:5, c(1, 1, 5))\n",
    "x2 <- array(1:5, c(1, 5, 1))\n",
    "x3 <- array(1:5, c(5, 1, 1))\n",
    "\n",
    "x1\n",
    "x2\n",
    "x3\n",
    "\n",
    "str(x1)\n",
    "str(x2)\n",
    "str(x3)"
   ]
  },
  {
   "cell_type": "code",
   "execution_count": null,
   "metadata": {
    "collapsed": true
   },
   "outputs": [],
   "source": [
    "Con el uso de _str()_ podemos observar las propiedades de un objeto en R. Apesar que imprama los mismos valores con la funcion utilizada podemos ver que son diferentes."
   ]
  },
  {
   "cell_type": "markdown",
   "metadata": {},
   "source": [
    "### 3."
   ]
  },
  {
   "cell_type": "code",
   "execution_count": 7,
   "metadata": {
    "collapsed": true
   },
   "outputs": [],
   "source": [
    "help(\"data.frame\")"
   ]
  },
  {
   "cell_type": "markdown",
   "metadata": {},
   "source": [
    "Utilizando la _ayuda_ , podemos ver que la funcion esta descrita por los atributos:\n",
    "\n",
    "```r\n",
    "data.frame(..., row.names = NULL, check.rows = FALSE,\n",
    "           check.names = TRUE, fix.empty.names = TRUE,\n",
    "           stringsAsFactors = default.stringsAsFactors())\n",
    "\n",
    "```\n"
   ]
  },
  {
   "cell_type": "code",
   "execution_count": null,
   "metadata": {
    "collapsed": true
   },
   "outputs": [],
   "source": []
  }
 ],
 "metadata": {
  "kernelspec": {
   "display_name": "R",
   "language": "R",
   "name": "ir"
  },
  "language_info": {
   "codemirror_mode": "r",
   "file_extension": ".r",
   "mimetype": "text/x-r-source",
   "name": "R",
   "pygments_lexer": "r",
   "version": "3.4.1"
  }
 },
 "nbformat": 4,
 "nbformat_minor": 0
}
