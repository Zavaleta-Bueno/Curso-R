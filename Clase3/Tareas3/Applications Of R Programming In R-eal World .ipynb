{
 "cells": [
  {
   "cell_type": "markdown",
   "metadata": {},
   "source": [
    "\n",
    "# Aplicaciones de R en el mundo Real\n",
    "\n",
    "\n",
    "\n",
    "### La forma en como se aplica al mundo real:\n",
    "\n",
    "R es _el lenguaje más usado en ciencia de los datos_ y una herramienta fundamental para las organizaciones financieras y analíticas (e.g Google, Facebook y LinkedIn).\n",
    "\n",
    "R es un lenguaje y un entorno para la informática estadística y el diseño.\n",
    "\n",
    "Es de tipo [GNU](https://www.gnu.org/licenses/licenses.es.html), cuyo predecesor es el lenguaje [S](http://ect.bell-labs.com/sl/S/history.html), y fue desarrollado en Bell Laboratories por John Chambers and Associates. \n",
    "\n",
    "Proporciona una amplia variedad de modelos estadísticos (modelización directa y no lineal), pruebas estadísticas tradicionales, análisis de arreglo de tiempo, agrupación, agrupación y técnicas gráficas, y es profundamente extensible.\n",
    "\n",
    "\n",
    "Las aplicaciones de programación R abarcan el universo de las estadísticas hipotéticas, computacionales y las ciencias duras, por ejemplo, la astronomía, la química y la genómica a aplicaciones prácticas en el negocio, el avance de las drogas, las finanzas, el cuidado de la salud, el marketing, la medicina y mucho más. \n",
    "\n",
    "\n",
    " R tiene casi 5.000 paquetes (librerías de funciones), gran parte de los cuales están comprometidos con aplicaciones particulares. \n",
    "\n",
    "<p align=\"center\">\n",
    "  \n",
    "  <img src=\"https://raw.githubusercontent.com/Zavaleta-Bueno/Curso-R/master/Clase3/Tareas3/ope.png\">\n",
    "  <center><b>Fig 1. Campos de Aplicaciones de R</b></center>  \n",
    "</p>\n",
    "\n",
    "\n",
    "#### ¿Por qué usar R?\n",
    "\n",
    "\n",
    "Es más que un paquete estadístico; es un lenguaje de programación para que pueda crear sus objetos, funciones y paquetes.\n",
    "\n",
    "Es independiente de la plataforma, y es open source, por lo que puede implementarlo en cualquier organización sin necesidad de adquirir una licencia y además  puede arreglar errores y agregar características a partir del código liberado. \n",
    "\n",
    "Permite la integración con otros lenguajes (C / C ++, Java, Python) y permite comunicarse con muchas fuentes de datos: bases de datos compatibles con ODBC (Excel, Access) y otros paquetes estadísticos (SAS, Stata, SPSS, Minitab). \n",
    "\n",
    "De los tres lenguajes estadísticos, R es el único que es de código abierto. SAS es la empresa privada de software más importante del mundo, y SPSS ahora es administrada a través de IBM.\n",
    "\n",
    "\n",
    "\n",
    "\n",
    "<p align=\"center\">\n",
    "  \n",
    "  <img src=\"https://github.com/Zavaleta-Bueno/Curso-R/blob/master/Clase3/Tareas3/op.png?raw=true\">\n",
    "  <center><b>Fig 2. Ventajas  </b></center>  \n",
    "</p>\n",
    "\n"
   ]
  }
 ],
 "metadata": {
  "kernelspec": {
   "display_name": "R 3.3",
   "language": "R",
   "name": "ir33"
  },
  "language_info": {
   "codemirror_mode": "r",
   "file_extension": ".r",
   "mimetype": "text/x-r-source",
   "name": "R",
   "pygments_lexer": "r",
   "version": "3.3.3"
  }
 },
 "nbformat": 4,
 "nbformat_minor": 2
}
